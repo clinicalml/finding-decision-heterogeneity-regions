{
 "cells": [
  {
   "cell_type": "code",
   "execution_count": null,
   "metadata": {},
   "outputs": [],
   "source": [
    "import numpy as np\n",
    "import pandas as pd\n",
    "import matplotlib.pyplot as plt"
   ]
  },
  {
   "cell_type": "code",
   "execution_count": null,
   "metadata": {},
   "outputs": [],
   "source": [
    "PATH_TO_MEDS_CSV = # TODO path to manually cleaned treatment file\n",
    "meds_df = pd.read_csv(PATH_TO_MEDS_CSV)\n",
    "processed_datadir = # TODO path to processed data using other scripts\n",
    "pd_totals_df = pd.read_csv(processed_datadir + 'PD_totals_across_time.csv')\n",
    "pd_baseline_df = pd.read_csv(processed_datadir + 'PD_baseline.csv')\n",
    "pd_other_df = pd.read_csv(processed_datadir + 'PD_other_across_time.csv')"
   ]
  },
  {
   "cell_type": "code",
   "execution_count": null,
   "metadata": {},
   "outputs": [],
   "source": [
    "included_trts = {'LEVODOPA','RASAGILINE'}\n",
    "meds_df = meds_df.loc[meds_df['CMTRT'].isin(included_trts)]\n",
    "meds_df['STARTDT_date'] = pd.to_datetime(meds_df['STARTDT'])\n",
    "meds_df.sort_values(by='STARTDT_date', inplace=True)\n",
    "first_line_meds_df = meds_df.drop_duplicates(subset='PATNO', keep='first')"
   ]
  },
  {
   "cell_type": "code",
   "execution_count": null,
   "metadata": {},
   "outputs": [],
   "source": [
    "pd_totals_df['NUPDRS3_max'] = pd_totals_df[['NUPDRS3_untreated','NUPDRS3_off',\\\n",
    "                                            'NUPDRS3_off','NUPDRS3_maob']].max(skipna=True, axis=1)\n",
    "pd_totals_df['mds23'] = pd_totals_df[['NUPDRS2','NUPDRS3_max']].sum(axis=1)\n",
    "df = pd_other_df[['PATNO','AGE']].rename(columns={'AGE': 'age'})\n",
    "df = df.merge(pd_totals_df[['PATNO','mds23']], on='PATNO')\n",
    "df = df.merge(pd_baseline_df[['PATNO','CNO']].rename(columns={'CNO':'site'}, inplace=True), on='PATNO', )\n",
    "df = df.merge(first_line_meds_df[['PATNO','CMTRT']].rename(columns={'CMTRT':'treatment'}, inplace=True), on='PATNO')\n",
    "df['treatment'] = np.where(df['treatment']=='LEVODOPA', 1, 0) # 1 for levodopa, 0 for rasagiline\n",
    "del df['PATNO']\n",
    "df.to_csv('line1_levodopa_rasagiline_age_mds23_disdur.csv',index=False)"
   ]
  }
 ],
 "metadata": {
  "kernelspec": {
   "display_name": "Python 3",
   "language": "python",
   "name": "python3"
  },
  "language_info": {
   "codemirror_mode": {
    "name": "ipython",
    "version": 2
   },
   "file_extension": ".py",
   "mimetype": "text/x-python",
   "name": "python",
   "nbconvert_exporter": "python",
   "pygments_lexer": "ipython2",
   "version": "2.7.15"
  }
 },
 "nbformat": 4,
 "nbformat_minor": 2
}
