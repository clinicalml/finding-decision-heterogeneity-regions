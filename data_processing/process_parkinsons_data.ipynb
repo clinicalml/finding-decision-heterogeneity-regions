{
 "cells": [
  {
   "cell_type": "code",
   "execution_count": null,
   "metadata": {},
   "outputs": [],
   "source": [
    "import numpy as np\n",
    "import pandas as pd\n",
    "import matplotlib.pyplot as plt"
   ]
  },
  {
   "cell_type": "code",
   "execution_count": null,
   "metadata": {},
   "outputs": [],
   "source": [
    "PATH_TO_MEDS_CSV = # TODO path to manually cleaned treatment file\n",
    "meds_df = pd.read_csv(PATH_TO_MEDS_CSV)\n",
    "processed_datadir = # TODO path to processed data using other scripts\n",
    "pd_totals_df = pd.read_csv(processed_datadir + 'PD_totals_across_time.csv')\n",
    "pd_baseline_df = pd.read_csv(processed_datadir + 'PD_baseline.csv')\n",
    "pd_other_df = pd.read_csv(processed_datadir + 'PD_other_across_time.csv')"
   ]
  },
  {
   "cell_type": "code",
   "execution_count": null,
   "metadata": {},
   "outputs": [],
   "source": [
    "# record first line treatments that are levodopa or rasigiline\n",
    "meds_df['STARTDT_date'] = pd.to_datetime(meds_df['STARTDT'])\n",
    "meds_df.sort_values(by='STARTDT_date', inplace=True)\n",
    "first_line_meds_df = meds_df.drop_duplicates(subset='PATNO', keep='first')\n",
    "included_trts = {'LEVODOPA','RASAGILINE'}\n",
    "first_line_meds_df = first_line_meds_df.loc[first_line_meds_df['CMTRT'].isin(included_trts)]\n",
    "# 1 for levodopa, 0 for rasagiline\n",
    "first_line_meds_df['treatment'] = np.where(first_line_meds_df['treatment']=='LEVODOPA', 1, 0)"
   ]
  },
  {
   "cell_type": "code",
   "execution_count": null,
   "metadata": {},
   "outputs": [],
   "source": [
    "# take the maximum MDS-UPDRS part III score that was measured at a visit\n",
    "pd_totals_df['NUPDRS3_max'] = pd_totals_df[['NUPDRS3_untreated','NUPDRS3_on',\n",
    "                                            'NUPDRS3_off','NUPDRS3_maob']].max(skipna=True, axis=1)\n",
    "# compute total part II and III score for motor assessment\n",
    "pd_totals_df['mds23'] = pd_totals_df[['NUPDRS2','NUPDRS3_max']].sum(axis=1)\n",
    "# merge in age\n",
    "pd_other_df = pd_other_df[['PATNO','INFODT','AGE']].rename(columns={'AGE':'age'})\n",
    "pd_totals_df = pd_totals_df.merge(pd_other_df, on=['PATNO','INFODT'])\n",
    "# record last measurement before treatment start\n",
    "pd_totals_df['INFODT_date'] = pd.to_datetime(pd_totals_df['INFODT'])\n",
    "pd_totals_df = pd_totals_df.rename(columns = {'INFODT_DIS_DUR': 'disdur'})\n",
    "df = first_line_meds_df['PATNO','treatment','STARTDT_date'].merge(pd_totals_df[['PATNO','mds23','INFODT_date',\n",
    "                                                                                'disdur']],\n",
    "                                                                  on = 'PATNO')\n",
    "df = df.loc[df['INFODT_date'] <= df['STARTDT_date']]\n",
    "df = df.sort_values(by='INFODT_date')\n",
    "df = df.drop_duplicates(subset=['PATNO'], keep='last')\n",
    "\n",
    "# merge in site number\n",
    "pd_baseline_df = pd_baseline_df[['PATNO','CNO']].rename(columns={'CNO':'site'})\n",
    "df = df.merge(pd_baseline_df, on='PATNO')\n",
    "\n",
    "# save data\n",
    "del df['PATNO']\n",
    "del df['INFODT_date']\n",
    "del df['STARTDT_date']\n",
    "df.to_csv('line1_levodopa_rasagiline_age_mds23_disdur.csv',index=False)"
   ]
  }
 ],
 "metadata": {
  "kernelspec": {
   "display_name": "Python 3 (ipykernel)",
   "language": "python",
   "name": "python3"
  },
  "language_info": {
   "codemirror_mode": {
    "name": "ipython",
    "version": 3
   },
   "file_extension": ".py",
   "mimetype": "text/x-python",
   "name": "python",
   "nbconvert_exporter": "python",
   "pygments_lexer": "ipython3",
   "version": "3.10.6"
  }
 },
 "nbformat": 4,
 "nbformat_minor": 2
}
