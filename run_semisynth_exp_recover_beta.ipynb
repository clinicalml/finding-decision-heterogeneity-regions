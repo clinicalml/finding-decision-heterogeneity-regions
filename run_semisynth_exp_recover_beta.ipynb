{
 "cells": [
  {
   "cell_type": "markdown",
   "metadata": {},
   "source": [
    "### Make Figure 2\n",
    "Results from tuning region size in semi-synthetic experiment"
   ]
  },
  {
   "cell_type": "code",
   "execution_count": 2,
   "metadata": {},
   "outputs": [],
   "source": [
    "LOAD_CACHE = True\n",
    "SAVE_RESULT = False"
   ]
  },
  {
   "cell_type": "code",
   "execution_count": 3,
   "metadata": {},
   "outputs": [],
   "source": [
    "RESULT_DIR = # TODO directory to place results\n",
    "FIG_DIR = 'figs/'"
   ]
  },
  {
   "cell_type": "code",
   "execution_count": 4,
   "metadata": {},
   "outputs": [],
   "source": [
    "import pandas as pd\n",
    "import numpy as np\n",
    "from scipy import stats"
   ]
  },
  {
   "cell_type": "code",
   "execution_count": 5,
   "metadata": {},
   "outputs": [],
   "source": [
    "from sklearn import preprocessing \n",
    "from sklearn import model_selection as ms\n",
    "from sklearn import pipeline\n",
    "from sklearn import linear_model as lm\n",
    "from IterativeRegionEstimator import IterativeRegionEstimator"
   ]
  },
  {
   "cell_type": "code",
   "execution_count": 6,
   "metadata": {},
   "outputs": [],
   "source": [
    "import data_processing.semisynth_dataloader as ssdl\n",
    "from run_baseline_models import run_model\n",
    "import numpy as np\n",
    "from tqdm.notebook import tqdm\n",
    "import data_processing.semisynth_subsets as sub\n",
    "\n",
    "import pickle as pkl\n",
    "import seaborn as sns\n",
    "import matplotlib.pyplot as plt\n",
    "\n",
    "from copy import deepcopy\n",
    "from tqdm.notebook import tqdm"
   ]
  },
  {
   "cell_type": "code",
   "execution_count": 7,
   "metadata": {},
   "outputs": [],
   "source": [
    "# Number of datasets to generate\n",
    "N_ITER_DATAGEN = 30\n",
    "# Within each dataset, how many permutations to test?\n",
    "N_ITER_PER_BETA = 40\n",
    "beta_seq = np.linspace(0.02, 0.42, 11) # increments of 0.04\n",
    "\n",
    "LOGIT = 1.5\n",
    "SUB = sub.misdemeanor_under35  # True beta is around 0.22\n",
    "SUB_STR = 'young_misdemeanor'\n",
    "\n",
    "EXP_STR = f'sub_{SUB_STR}_datasets_{N_ITER_DATAGEN}_iter_{N_ITER_PER_BETA}_logit_{LOGIT}'"
   ]
  },
  {
   "cell_type": "code",
   "execution_count": 8,
   "metadata": {},
   "outputs": [],
   "source": [
    "if LOAD_CACHE: \n",
    "    with open(f'{RESULT_DIR}/semisynth-recoverbeta-{EXP_STR}-raw.pkl', 'rb') as f:\n",
    "        results_list = pkl.load(f)\n",
    "else:\n",
    "    results_list = []\n",
    "    scores_data = {}\n",
    "    for seed_data in tqdm(range(N_ITER_DATAGEN)):\n",
    "        dd = ssdl.load_semi_synthetic_compas_data(\n",
    "            seed=seed_data, logit_adjust=LOGIT, num_agents=None,\n",
    "            subset_func=SUB,\n",
    "            verbose=False, cache=False)\n",
    "        \n",
    "        if seed_data == 0:\n",
    "            true_beta = dd['true_beta']\n",
    "            print(f'Beta: {true_beta}')\n",
    "\n",
    "        train_valid_idxs = np.concatenate([dd['train_idxs'], dd['valid_idxs']])\n",
    "\n",
    "        # Note that we are treating the entire training/validation set as \"training\" for this\n",
    "        X_train = dd['X'][train_valid_idxs]\n",
    "        A_train = dd['d'][train_valid_idxs]\n",
    "        y_train = dd['t'][train_valid_idxs]\n",
    "\n",
    "        # Ridge Regression for the region and Logistic Regression for the outcome model\n",
    "        lr_outcome = pipeline.Pipeline(\n",
    "                    [('scaler', preprocessing.StandardScaler()),\n",
    "                     ('logReg', lm.LogisticRegression(\n",
    "                         fit_intercept=True, solver='lbfgs', \n",
    "                         random_state=0, max_iter=1000))])\n",
    "\n",
    "        lr_region = pipeline.Pipeline(\n",
    "                    [('scaler', preprocessing.StandardScaler()),\n",
    "                     ('Ridge', lm.Ridge(\n",
    "                         fit_intercept=True, \n",
    "                         random_state=0, max_iter=1000))])\n",
    "\n",
    "        outcome_params = {\n",
    "            'logReg__C': [10, 1, 0.1, 0.01, 0.001, 0.0001, 0.00001]\n",
    "        }\n",
    "\n",
    "        region_params = {\n",
    "            'Ridge__alpha': [0.01, 0.1, 1, 10, 100]\n",
    "        }\n",
    "\n",
    "        outcome_model = ms.GridSearchCV(lr_outcome, scoring='roc_auc', param_grid=outcome_params)\n",
    "        outcome_model = outcome_model.fit(X_train, y_train)\n",
    "\n",
    "        # Note that we do not fit the region model, b/c this is done as part of the iter model routine\n",
    "        region_model = ms.GridSearchCV(lr_region, scoring='neg_mean_squared_error', param_grid=region_params)\n",
    "\n",
    "        for this_beta in tqdm(beta_seq):\n",
    "            # Fit the original model, get the score\n",
    "            this_beta_iter_model = IterativeRegionEstimator(\n",
    "                    region_modelclass=deepcopy(region_model),\n",
    "                    beta=this_beta)\n",
    "\n",
    "            this_beta_iter_model = this_beta_iter_model.fit(X_train, y_train, A_train, outcome_model)\n",
    "            fitted_score = this_beta_iter_model.score(X_train, y_train, A_train)\n",
    "\n",
    "            # Randomly permute the agents, get a new training score\n",
    "            these_scores = []\n",
    "            for seed_shuffle in range(N_ITER_PER_BETA):    \n",
    "                # Randomly shuffle the agents\n",
    "                rng = np.random.default_rng(seed=seed_shuffle)\n",
    "                this_A_random = rng.permutation(A_train)\n",
    "\n",
    "                this_region_model = deepcopy(region_model)\n",
    "\n",
    "                # Fit the iterative estimator, using the shuffled agents\n",
    "                this_iter_model = IterativeRegionEstimator(\n",
    "                    region_modelclass=this_region_model,\n",
    "                    beta=this_beta)\n",
    "                this_iter_model = this_iter_model.fit(X_train, y_train, this_A_random, outcome_model)\n",
    "\n",
    "                this_score = this_iter_model.score(X_train, y_train, this_A_random)\n",
    "                these_scores.append(this_score)    \n",
    "\n",
    "            these_scores = np.array(these_scores)\n",
    "\n",
    "            results_list.append({\n",
    "                'data_seed': seed_data,\n",
    "                'beta': this_beta,\n",
    "                'fitted_train_score': this_beta_iter_model.score(X_train, y_train, A_train),\n",
    "                'shuffle_train_mean': these_scores.mean(),\n",
    "                'shuffle_train_upper_90_interval': np.quantile(these_scores, 0.95),\n",
    "                'shuffle_train_lower_90_interval': np.quantile(these_scores, 0.05),\n",
    "                'shuffle_train_std': these_scores.std(), \n",
    "                'raw_scores': these_scores}\n",
    "            )\n",
    "\n",
    "    if SAVE_RESULT: \n",
    "        with open(f'{RESULT_DIR}/semisynth-recoverbeta-{EXP_STR}-raw.pkl', 'wb') as f:\n",
    "            pkl.dump(results_list, f)"
   ]
  },
  {
   "cell_type": "markdown",
   "metadata": {},
   "source": [
    "# Visualize results"
   ]
  },
  {
   "cell_type": "code",
   "execution_count": 9,
   "metadata": {},
   "outputs": [],
   "source": [
    "def get_percentile_score(d):\n",
    "    return (100 - stats.percentileofscore(d['raw_scores'], d['fitted_train_score'])) * 0.01\n",
    "\n",
    "def del_raw_add_perct(d):\n",
    "    r = dict(d)\n",
    "    r['percentile'] = get_percentile_score(d)\n",
    "    del r['raw_scores']\n",
    "    return r\n",
    "\n",
    "plot_df = pd.DataFrame([del_raw_add_perct(r) for r in results_list])\n",
    "plot_df['diff'] = plot_df['fitted_train_score'] - plot_df['shuffle_train_mean']\n",
    "plot_df['zscore'] = plot_df['diff'] / plot_df['shuffle_train_std']\n",
    "pd.set_option('display.float_format', '{:.3f}'.format)"
   ]
  },
  {
   "cell_type": "code",
   "execution_count": 10,
   "metadata": {},
   "outputs": [],
   "source": [
    "true_beta = plot_df['true_beta'].values[0]"
   ]
  },
  {
   "cell_type": "code",
   "execution_count": 14,
   "metadata": {},
   "outputs": [
    {
     "data": {
      "image/png": "[encoded data removed]",
      "text/plain": [
       "<Figure size 360x360 with 1 Axes>"
      ]
     },
     "metadata": {
      "needs_background": "light"
     },
     "output_type": "display_data"
    }
   ],
   "source": [
    "# Values of beta that minimize the p-value\n",
    "min_pvalue = plot_df.iloc[plot_df.groupby('data_seed').idxmin()['percentile'].values]\n",
    "plt.rcParams.update({'font.size':16})\n",
    "fig, ax = plt.subplots(1, figsize=(5, 5))\n",
    "sns.kdeplot(x='beta', data = min_pvalue, ax = ax, linewidth=3)\n",
    "sns.histplot(x='beta', data = min_pvalue, bins=10, ax = ax, alpha=0.2)\n",
    "ax.axvline(x = true_beta, color='black', linewidth=3)\n",
    "ax.set_xlabel(\"$\\\\beta$\")\n",
    "ax.set_ylabel(\"Density / Count\")\n",
    "ax.set_title(\"Chosen value of $\\\\beta$\")\n",
    "plt.savefig(f\"{FIG_DIR}/semisynth-recoverbeta-{EXP_STR}-betachoices.pdf\")"
   ]
  },
  {
   "cell_type": "code",
   "execution_count": 12,
   "metadata": {},
   "outputs": [
    {
     "data": {
      "image/png": "[encoded data removed]",
      "text/plain": [
       "<Figure size 504x360 with 1 Axes>"
      ]
     },
     "metadata": {
      "needs_background": "light"
     },
     "output_type": "display_data"
    }
   ],
   "source": [
    "fig, ax = plt.subplots(1, figsize=(7, 5))\n",
    "sns.lineplot(x = 'beta', y = 'percentile', data=plot_df, ax=ax, linewidth=3)\n",
    "ax.set_title(\"Avg. p-value by $\\\\beta$\")\n",
    "ax.axvline(x = true_beta, linestyle='dotted', linewidth=3)\n",
    "ax.set_xlabel(\"$\\\\beta$\")\n",
    "ax.set_ylabel(\"p-value\")\n",
    "plt.savefig(f\"{FIG_DIR}/semisynth-recoverbeta-{EXP_STR}-pct-dist.pdf\")"
   ]
  },
  {
   "cell_type": "code",
   "execution_count": null,
   "metadata": {},
   "outputs": [],
   "source": []
  }
 ],
 "metadata": {
  "kernelspec": {
   "display_name": "Python3 (base)",
   "language": "python",
   "name": "base"
  },
  "language_info": {
   "codemirror_mode": {
    "name": "ipython",
    "version": 3
   },
   "file_extension": ".py",
   "mimetype": "text/x-python",
   "name": "python",
   "nbconvert_exporter": "python",
   "pygments_lexer": "ipython3",
   "version": "3.7.6"
  }
 },
 "nbformat": 4,
 "nbformat_minor": 5
}
